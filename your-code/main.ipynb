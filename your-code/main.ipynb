{
 "cells": [
  {
   "cell_type": "markdown",
   "metadata": {},
   "source": [
    "# Before your start:\n",
    "- Read the README.md file\n",
    "- Comment as much as you can and use the resources in the README.md file\n",
    "- Happy learning!"
   ]
  },
  {
   "cell_type": "code",
   "execution_count": 1,
   "metadata": {},
   "outputs": [],
   "source": [
    "# Libraries\n",
    "import math"
   ]
  },
  {
   "cell_type": "markdown",
   "metadata": {},
   "source": [
    "# Challenge 1 - Handling Errors Using `try` and `except`\n",
    "\n",
    "The `try` and `except` clauses create a block for handling exceptions. When we wrap code in this block, we first attempt the code in the `try` and if an error is thrown, we can handle specific errors or all errors in the `except` portion.\n",
    "\n",
    "In the 4 cells below, modify the code to catch the error and print a meaningful message that will alert the user what went wrong. You may catch the error using a general `except` or a specific `except` for the error caused by the code."
   ]
  },
  {
   "cell_type": "code",
   "execution_count": 2,
   "metadata": {},
   "outputs": [
    {
     "name": "stdout",
     "output_type": "stream",
     "text": [
      "Oops! some_string variable not defined.\n"
     ]
    }
   ],
   "source": [
    "# Modify the code below:\n",
    "\n",
    "try:\n",
    "    print(some_string)\n",
    "    \n",
    "except NameError:\n",
    "    print(\"Oops! some_string variable not defined.\")\n",
    "        "
   ]
  },
  {
   "cell_type": "code",
   "execution_count": 3,
   "metadata": {},
   "outputs": [
    {
     "name": "stdout",
     "output_type": "stream",
     "text": [
      "unsupported operand type for ** for  'str' and 'int'\n"
     ]
    }
   ],
   "source": [
    "# Modify the code below:\n",
    "\n",
    "try:\n",
    "    for i in ['a','b','c']:\n",
    "        print (i**2)\n",
    "except TypeError:\n",
    "    print (\"unsupported operand type for ** for  'str' and 'int'\")"
   ]
  },
  {
   "cell_type": "code",
   "execution_count": 4,
   "metadata": {},
   "outputs": [
    {
     "name": "stdout",
     "output_type": "stream",
     "text": [
      "You cannot divide by 0\n"
     ]
    }
   ],
   "source": [
    "# Modify the code below:\n",
    "\n",
    "x = 5\n",
    "y = 0\n",
    "\n",
    "\n",
    "try:\n",
    "    z = x/y\n",
    "except ZeroDivisionError:\n",
    "    print (\"You cannot divide by 0\")"
   ]
  },
  {
   "cell_type": "code",
   "execution_count": 5,
   "metadata": {},
   "outputs": [
    {
     "name": "stdout",
     "output_type": "stream",
     "text": [
      "list index out of range\n"
     ]
    }
   ],
   "source": [
    "# Modify the code below:\n",
    "\n",
    "abc=[10,20,20]\n",
    "try:\n",
    "    print(abc[3])\n",
    "except IndexError:\n",
    "    print (\"list index out of range\")"
   ]
  },
  {
   "cell_type": "markdown",
   "metadata": {},
   "source": [
    "# Challenge 2 - Handling Errors Using `if` Statements\n",
    "\n",
    "In many cases, we are able to identify issues that may come up in our code and handle those handlful of issues with an `if` statment. Sometimes we would like to handle different types of inputs and are aware that later in the code, we will have to write two different branches of code for the two different cases we allowed in the beginning.\n",
    "\n",
    "In the 3 cells below, add an `if` statment that will handle both types of input allowed in the functions."
   ]
  },
  {
   "cell_type": "code",
   "execution_count": 6,
   "metadata": {},
   "outputs": [
    {
     "data": {
      "text/plain": [
       "2.0"
      ]
     },
     "execution_count": 6,
     "metadata": {},
     "output_type": "execute_result"
    }
   ],
   "source": [
    "# Modify the code below to handle positive and negative numbers by adding an if statement and performing a transformation:\n",
    "import sys\n",
    "def sqrt_for_all(x):\n",
    "    x = float (x)\n",
    "    if x<0:\n",
    "        x = -x\n",
    "        math.sqrt(x)\n",
    "    else:\n",
    "        math.sqrt(x)\n",
    "\n",
    "    return math.sqrt(x)\n",
    "\n",
    "sqrt_for_all(-4)"
   ]
  },
  {
   "cell_type": "code",
   "execution_count": 7,
   "metadata": {},
   "outputs": [
    {
     "data": {
      "text/plain": [
       "0"
      ]
     },
     "execution_count": 7,
     "metadata": {},
     "output_type": "execute_result"
    }
   ],
   "source": [
    "# Modify the code below to handle zero as well. In the case of zero, return zero\n",
    "\n",
    "def divide(x, y):\n",
    "    if x!= 0 and y != 0:\n",
    "        return x/ y\n",
    "    else:\n",
    "        return 0\n",
    "   \n",
    "\n",
    "divide(5, 0)"
   ]
  },
  {
   "cell_type": "code",
   "execution_count": 8,
   "metadata": {},
   "outputs": [
    {
     "data": {
      "text/plain": [
       "[11]"
      ]
     },
     "execution_count": 8,
     "metadata": {},
     "output_type": "execute_result"
    }
   ],
   "source": [
    "# Modify the function below that it will take either an number and a list or two numbers. \n",
    "# If we take two numbers, add them together and return a list of length 1. \n",
    "# Otherwise, add the number to every element of the list and return the resulting list\n",
    "\n",
    "def add_elements(a, l):\n",
    "    if type(l) == list:\n",
    "        return ([a + element for element in l])\n",
    "    else:\n",
    "        \n",
    "        return ([a + l])\n",
    "\n",
    "        \n",
    "add_elements(5, 6)"
   ]
  },
  {
   "cell_type": "markdown",
   "metadata": {},
   "source": [
    "# Challenge 3 - Fixing Errors to Get Code to Run\n",
    "\n",
    "Sometimes the error is not caused by the input but by the code itself. In the 2 following cells below, examine the error and correct the code to avoid the error."
   ]
  },
  {
   "cell_type": "code",
   "execution_count": 9,
   "metadata": {},
   "outputs": [
    {
     "data": {
      "text/plain": [
       "14"
      ]
     },
     "execution_count": 9,
     "metadata": {},
     "output_type": "execute_result"
    }
   ],
   "source": [
    "# Modify the code below:\n",
    "\n",
    "l = [1,2,3,4]\n",
    "\n",
    "sum([element + 1 for element in l])\n",
    "# ) added at end"
   ]
  },
  {
   "cell_type": "code",
   "execution_count": 10,
   "metadata": {},
   "outputs": [
    {
     "name": "stdout",
     "output_type": "stream",
     "text": [
      "The current element in the loop is 1\n",
      "The current element in the loop is 2\n",
      "The current element in the loop is 3\n",
      "The current element in the loop is 4\n"
     ]
    }
   ],
   "source": [
    "# Modify the code below:\n",
    "\n",
    "l = [1,2,3,4]\n",
    "\n",
    "for element in l:\n",
    "    print(\"The current element in the loop is\", element)\n",
    "# + symbol changed for ,"
   ]
  },
  {
   "cell_type": "markdown",
   "metadata": {},
   "source": [
    "# Challenge 4 - Raise Errors on Your Own\n",
    "\n",
    "There are cases where you need to alert your users of a problem even if the input will not immediately produce an error. In these cases you may want to throw an error yourself to bring attention to the problem. In the 2 cells below, write the functions as directed and add the appropriate errors using the `raise` clause. Make sure to add a meaningful error message."
   ]
  },
  {
   "cell_type": "code",
   "execution_count": 11,
   "metadata": {},
   "outputs": [
    {
     "name": "stdout",
     "output_type": "stream",
     "text": [
      "Input a number:0\n",
      "Error, 0 is not a valid number for this function\n",
      "Input a number:5\n"
     ]
    },
    {
     "data": {
      "text/plain": [
       "3.2188758248682006"
      ]
     },
     "execution_count": 11,
     "metadata": {},
     "output_type": "execute_result"
    }
   ],
   "source": [
    "def log_square(x):\n",
    "    x = int(input(\"Input a number:\"))\n",
    "    if x == 0:\n",
    "        try:\n",
    "            raise ValueError(x)\n",
    "        except ValueError:\n",
    "            print (\"Error, 0 is not a valid number for this function\")\n",
    "            \n",
    "    else:\n",
    "        return (math.log (x**2))\n",
    "    \n",
    "    # Your code here:\n",
    "log_square(x)\n",
    "log_square(x)"
   ]
  },
  {
   "cell_type": "code",
   "execution_count": 13,
   "metadata": {},
   "outputs": [
    {
     "name": "stdout",
     "output_type": "stream",
     "text": [
      "Input a string with at least one capital letter: John\n",
      "True\n",
      "Input a string with at least one capital letter: john\n",
      "False\n",
      "Input a string with at least one capital letter: 0\n",
      "Wrong input, you need to input a word\n"
     ]
    }
   ],
   "source": [
    "def check_capital(x):\n",
    "    string = input (\"Input a string with at least one capital letter: \")\n",
    "\n",
    "    if string.isnumeric() == False:\n",
    "        x = [i.isupper() for i in string]\n",
    "        if True in x:\n",
    "            print (True)\n",
    "        else:\n",
    "            print (False)\n",
    "    else:\n",
    "        print (\"Wrong input, you need to input a word\")\n",
    "\n",
    "            \n",
    "   \n",
    "    # Your code here:\n",
    "check_capital(x)\n",
    "check_capital(x)\n",
    "check_capital(x)\n"
   ]
  },
  {
   "cell_type": "markdown",
   "metadata": {},
   "source": [
    "# Bonus Challenge - Optional Types\n",
    "\n",
    "The optional type is a data type that allows a variable to be either a defined type (like integer, string, etc.) or None. Optional types are defined in the `typing` library. They allow us to transition Python to a statically typed language (as far as our syntax goes). To read more about the `typing` library, click [here](https://docs.python.org/3/library/typing.html#typing.Optional). \n",
    "\n",
    "In the cell below, use the optional type to write a function that can handle both floats and `None` type. This function converts Celcius to Fahrenheit. If we pass `None` to the function, we should return `None`, otherwise, we will compute the converted temperature"
   ]
  },
  {
   "cell_type": "code",
   "execution_count": null,
   "metadata": {},
   "outputs": [],
   "source": [
    "from typing import Optional\n",
    "\n",
    "def temp_convert(arg: Optional[float]) -> Optional[float]:\n",
    "    \"\"\"\n",
    "    This function takes either float or None \n",
    "    and returns either None or a converted temperature.\n",
    "    \n",
    "    Input: Optional[float]\n",
    "    Output: Optional[float]\n",
    "    \n",
    "    Sample Input: 5\n",
    "    Sample Output: 41.0\n",
    "    \"\"\"\n",
    "    \n",
    "    # Your code here:"
   ]
  }
 ],
 "metadata": {
  "kernelspec": {
   "display_name": "Python 3",
   "language": "python",
   "name": "python3"
  },
  "language_info": {
   "codemirror_mode": {
    "name": "ipython",
    "version": 3
   },
   "file_extension": ".py",
   "mimetype": "text/x-python",
   "name": "python",
   "nbconvert_exporter": "python",
   "pygments_lexer": "ipython3",
   "version": "3.7.3"
  }
 },
 "nbformat": 4,
 "nbformat_minor": 2
}
